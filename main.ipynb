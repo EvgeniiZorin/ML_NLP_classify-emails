{
 "cells": [
  {
   "attachments": {},
   "cell_type": "markdown",
   "metadata": {},
   "source": [
    "# Modules"
   ]
  },
  {
   "cell_type": "code",
   "execution_count": 32,
   "metadata": {},
   "outputs": [],
   "source": [
    "import tarfile\n",
    "import os\n",
    "import urllib.request\n",
    "\n",
    "import email\n",
    "import email.policy\n",
    "from bs4 import BeautifulSoup\n",
    "import re\n"
   ]
  },
  {
   "attachments": {},
   "cell_type": "markdown",
   "metadata": {},
   "source": [
    "# Data"
   ]
  },
  {
   "attachments": {},
   "cell_type": "markdown",
   "metadata": {},
   "source": [
    "## Decompress"
   ]
  },
  {
   "cell_type": "code",
   "execution_count": 36,
   "metadata": {},
   "outputs": [
    {
     "name": "stdout",
     "output_type": "stream",
     "text": [
      "The target directory is not empty.\n",
      "exiting the program.\n"
     ]
    }
   ],
   "source": [
    "# Method 1\n",
    "# manually download the archive files into the 'raw' directory, \n",
    "# then run this code to decompress the archives into 'raw_decompressed' directory\n",
    "def unpack():\n",
    "\tprint('unpacking...')\n",
    "\tarchiveFiles = [ i for i in os.listdir('datasets/raw') if '.tar.bz2' in i ]\n",
    "\tfor i in archiveFiles:\n",
    "\t\twith tarfile.open(f'datasets/raw/{i}', 'r:bz2') as tar:\n",
    "\t\t\ttar.extractall('datasets/raw_decompressed')\n",
    "\tprint('done!')\n",
    "\n",
    "def check_if_already_unpacked():\n",
    "\t# If directory \"datasets/raw_decompressed\" exists and it is not empty\n",
    "\tif os.path.exists('datasets/raw_decompressed') and os.listdir('datasets/raw_decompressed') != []:\n",
    "\t\tprint('The target directory is not empty.')\n",
    "\t\twhile True:\n",
    "\t\t\ta = input(\"Do you want to unpack the archived files again? \\nPlease type 'yes' or 'no'\")\n",
    "\t\t\ta2 = a.lower()\n",
    "\t\t\tif a2 == 'yes':\n",
    "\t\t\t\t# Call the \"unpack()\" function\n",
    "\t\t\t\tunpack()\n",
    "\t\t\t\tbreak\n",
    "\t\t\tif a2 == 'no':\n",
    "\t\t\t\tprint('exiting the program.')\n",
    "\t\t\t\tbreak\n",
    "\t\t\telse:\n",
    "\t\t\t\tprint('Please try again by typing a valid input.')\n",
    "\telse:\n",
    "\t\tunpack()\n",
    "\n",
    "if os.path.exists('datasets/raw') and os.listdir('datasets/raw') != []:\n",
    "\tcheck_if_already_unpacked()\n",
    "else:\n",
    "\tprint(\"\"\"Directory \"datasets/raw\" doesn't exist or it doesn't have any files! Please download the files into this directory and then continue\"\"\")\n"
   ]
  },
  {
   "cell_type": "code",
   "execution_count": 48,
   "metadata": {},
   "outputs": [],
   "source": [
    "# Method 2\n",
    "# download the files from the online directory using 'urllib.request' library\n",
    "\n",
    "if not os.path.exists('datasets/raw'):\n",
    "    os.makedirs('datasets/raw')\n",
    "\n",
    "DOWNLOAD_ROOT = \"http://spamassassin.apache.org/old/publiccorpus/\"\n",
    "HAM_URL = DOWNLOAD_ROOT + \"20030228_easy_ham.tar.bz2\"\n",
    "SPAM_URL = DOWNLOAD_ROOT + \"20030228_spam.tar.bz2\"\n",
    "HAM_FILE = os.path.join('datasets', 'raw', 'easy_ham.tar.bz2')\n",
    "SPAM_FILE = os.path.join('datasets', 'raw', 'spam.tar.bz2')\n",
    "\n",
    "for i, j in [[HAM_URL, HAM_FILE], [SPAM_URL, SPAM_FILE]]:\n",
    "    urllib.request.urlretrieve(i, j )\n",
    "    with tarfile.open(j, 'r:bz2') as tar:\n",
    "        tar.extractall( os.path.join('datasets', 'raw_decompressed') )"
   ]
  },
  {
   "attachments": {},
   "cell_type": "markdown",
   "metadata": {},
   "source": [
    "## Read data"
   ]
  },
  {
   "cell_type": "code",
   "execution_count": 8,
   "metadata": {},
   "outputs": [
    {
     "name": "stdout",
     "output_type": "stream",
     "text": [
      "Number of entries in SPAM: 500\n",
      "Number of entries in HAM:  2500\n"
     ]
    }
   ],
   "source": [
    "# How many files do we have?\n",
    "HAM_DIR = os.path.join('datasets', 'raw_decompressed', 'easy_ham')\n",
    "SPAM_DIR = os.path.join('datasets', 'raw_decompressed', 'spam')\n",
    "\n",
    "def only_emails(path):\n",
    "    \"\"\"\n",
    "    Get only email entries, that is, everything except the 'cmds' \n",
    "    technical file. \n",
    "    Alternatively, you can filter only those file names that have\n",
    "    more than 20 characters\n",
    "    \"\"\"\n",
    "    emails_only = [i for i in os.listdir(path) if i != 'cmds']\n",
    "    return emails_only\n",
    "\n",
    "spam_email_filenames = only_emails(SPAM_DIR)\n",
    "ham_email_filenames = only_emails(HAM_DIR)\n",
    "print(f\"Number of entries in SPAM: { len(spam_email_filenames) }\")\n",
    "print(f\"Number of entries in HAM:  { len(ham_email_filenames) }\")"
   ]
  },
  {
   "cell_type": "code",
   "execution_count": 9,
   "metadata": {},
   "outputs": [],
   "source": [
    "# We can use Python's \"email\" module to parse the emails from text: headers, body, links, etc.\n",
    "\n",
    "def load_email( pathDir, filename ):\n",
    "    with open( os.path.join(pathDir, filename), 'rb' ) as f:\n",
    "        return email.parser.BytesParser(policy=email.policy.default).parse(f)\n",
    "\n",
    "ham_emails =  [load_email( os.path.join('datasets', 'raw_decompressed', 'easy_ham'), i ) for i in ham_email_filenames]\n",
    "spam_emails = [load_email( os.path.join('datasets', 'raw_decompressed', 'spam'), i ) for i in spam_email_filenames]"
   ]
  },
  {
   "cell_type": "code",
   "execution_count": 15,
   "metadata": {},
   "outputs": [
    {
     "name": "stdout",
     "output_type": "stream",
     "text": [
      "Martin A posted:\n",
      "Tassos Papadopoulos, the Greek sculptor behind the plan, judged that the\n",
      " limestone of Mount Kerdylio, 70 miles east of Salonika and not far from the\n",
      " Mount Athos monastic community, was ideal for the patriotic sculpture. \n",
      " \n",
      " As well as Alexander's granite features, 240 ft high and 170 ft wide, a\n",
      " museum, a restored amphitheatre and car park for admiring crowds are\n",
      "planned\n",
      "---------------------\n",
      "So is this mountain limestone or granite?\n",
      "If it's limestone, it'll weather pretty fast.\n",
      "\n",
      "------------------------ Yahoo! Groups Sponsor ---------------------~-->\n",
      "4 DVDs Free +s&p Join Now\n",
      "http://us.click.yahoo.com/pt6YBB/NXiEAA/mG3HAA/7gSolB/TM\n",
      "---------------------------------------------------------------------~->\n",
      "\n",
      "To unsubscribe from this group, send an email to:\n",
      "forteana-unsubscribe@egroups.com\n",
      "\n",
      " \n",
      "\n",
      "Your use of Yahoo! Groups is subject to http://docs.yahoo.com/info/terms/\n"
     ]
    }
   ],
   "source": [
    "# Get some info from one example email\n",
    "print(ham_emails[1].get_content().strip())"
   ]
  },
  {
   "cell_type": "code",
   "execution_count": 16,
   "metadata": {},
   "outputs": [
    {
     "data": {
      "text/plain": [
       "[('text/plain', 2408),\n",
       " ('multipart(text/plain, application/pgp-signature)', 66),\n",
       " ('multipart(text/plain, text/html)', 8),\n",
       " ('multipart(text/plain, text/plain)', 4),\n",
       " ('multipart(text/plain)', 3),\n",
       " ('multipart(text/plain, application/octet-stream)', 2),\n",
       " ('multipart(text/plain, text/enriched)', 1),\n",
       " ('multipart(text/plain, application/ms-tnef, text/plain)', 1),\n",
       " ('multipart(multipart(text/plain, text/plain, text/plain), application/pgp-signature)',\n",
       "  1),\n",
       " ('multipart(text/plain, video/mng)', 1),\n",
       " ('multipart(text/plain, multipart(text/plain))', 1),\n",
       " ('multipart(text/plain, application/x-pkcs7-signature)', 1),\n",
       " ('multipart(text/plain, multipart(text/plain, text/plain), text/rfc822-headers)',\n",
       "  1),\n",
       " ('multipart(text/plain, multipart(text/plain, text/plain), multipart(multipart(text/plain, application/x-pkcs7-signature)))',\n",
       "  1),\n",
       " ('multipart(text/plain, application/x-java-applet)', 1)]"
      ]
     },
     "execution_count": 16,
     "metadata": {},
     "output_type": "execute_result"
    }
   ],
   "source": [
    "def get_email_structure(email):\n",
    "    if isinstance(email, str):\n",
    "        return email\n",
    "    payload = email.get_payload()\n",
    "    if isinstance(payload, list):\n",
    "        return \"multipart({})\".format(\", \".join([\n",
    "            get_email_structure(sub_email)\n",
    "            for sub_email in payload\n",
    "        ]))\n",
    "    else:\n",
    "        return email.get_content_type()\n",
    "from collections import Counter\n",
    "\n",
    "def structures_counter(emails):\n",
    "    structures = Counter()\n",
    "    for email in emails:\n",
    "        structure = get_email_structure(email)\n",
    "        structures[structure] += 1\n",
    "    return structures\n",
    "\n",
    "structures_counter(ham_emails).most_common()"
   ]
  },
  {
   "cell_type": "code",
   "execution_count": 17,
   "metadata": {},
   "outputs": [
    {
     "data": {
      "text/plain": [
       "[('text/plain', 218),\n",
       " ('text/html', 183),\n",
       " ('multipart(text/plain, text/html)', 45),\n",
       " ('multipart(text/html)', 20),\n",
       " ('multipart(text/plain)', 19),\n",
       " ('multipart(multipart(text/html))', 5),\n",
       " ('multipart(text/plain, image/jpeg)', 3),\n",
       " ('multipart(text/html, application/octet-stream)', 2),\n",
       " ('multipart(text/plain, application/octet-stream)', 1),\n",
       " ('multipart(text/html, text/plain)', 1),\n",
       " ('multipart(multipart(text/html), application/octet-stream, image/jpeg)', 1),\n",
       " ('multipart(multipart(text/plain, text/html), image/gif)', 1),\n",
       " ('multipart/alternative', 1)]"
      ]
     },
     "execution_count": 17,
     "metadata": {},
     "output_type": "execute_result"
    }
   ],
   "source": [
    "structures_counter(spam_emails).most_common()"
   ]
  },
  {
   "cell_type": "code",
   "execution_count": 23,
   "metadata": {},
   "outputs": [
    {
     "name": "stdout",
     "output_type": "stream",
     "text": [
      "Return-Path: <12a1mailbot1@web.de>\n",
      "Delivered-To: zzzz@localhost.spamassassin.taint.org\n",
      "Received: from localhost (localhost [127.0.0.1])\tby phobos.labs.spamassassin.taint.org (Postfix) with ESMTP id 136B943C32\tfor <zzzz@localhost>; Thu, 22 Aug 2002 08:17:21 -0400 (EDT)\n",
      "Received: from mail.webnote.net [193.120.211.219]\tby localhost with POP3 (fetchmail-5.9.0)\tfor zzzz@localhost (single-drop); Thu, 22 Aug 2002 13:17:21 +0100 (IST)\n",
      "Received: from dd_it7 ([210.97.77.167])\tby webnote.net (8.9.3/8.9.3) with ESMTP id NAA04623\tfor <zzzz@spamassassin.taint.org>; Thu, 22 Aug 2002 13:09:41 +0100\n",
      "From: 12a1mailbot1@web.de\n",
      "Received: from r-smtp.korea.com - 203.122.2.197 by dd_it7  with Microsoft SMTPSVC(5.5.1775.675.6);\t Sat, 24 Aug 2002 09:42:10 +0900\n",
      "To: dcek1a1@netsgo.com\n",
      "Subject: Life Insurance - Why Pay More?\n",
      "Date: Wed, 21 Aug 2002 20:31:57 -1600\n",
      "MIME-Version: 1.0\n",
      "Message-ID: <0103c1042001882DD_IT7@dd_it7>\n",
      "Content-Type: text/html; charset=\"iso-8859-1\"\n",
      "Content-Transfer-Encoding: quoted-printable\n"
     ]
    }
   ],
   "source": [
    "# Check email headers\n",
    "for i,j in spam_emails[0].items():\n",
    "    print(f\"{i}: {j}\")"
   ]
  },
  {
   "cell_type": "code",
   "execution_count": 25,
   "metadata": {},
   "outputs": [
    {
     "data": {
      "text/plain": [
       "'Life Insurance - Why Pay More?'"
      ]
     },
     "execution_count": 25,
     "metadata": {},
     "output_type": "execute_result"
    }
   ],
   "source": [
    "# only \"Subject\"\n",
    "spam_emails[0]['Subject']"
   ]
  },
  {
   "cell_type": "code",
   "execution_count": 31,
   "metadata": {},
   "outputs": [
    {
     "data": {
      "text/plain": [
       "'<!DOCTYPE HTML PUBLIC \"-//W3C//DTD HTML 4.0 Transitional//EN\">\\n<HTML><HEAD>\\n<META content=\"text/html; charset=windows-1252\" http-equiv=Content-Type>\\n<META content=\"MSHTML 5.00.2314.1000\" name=GENERATOR></HEAD>\\n<BODY><!-- Inserted by Calypso -->\\n<TABLE border=0 cellPadding=0 cellSpacing=2 id=_CalyPrintHeader_ rules=none \\nstyle=\"COLOR: black; DISPLAY: none\" width=\"100%\">\\n  <TBODY>\\n  <TR>\\n    <TD colSpan=3>\\n      <HR color=black noShade SIZE=1>\\n    </TD></TR></TD></TR>\\n  <TR>\\n    <TD colSpan=3>\\n      <HR color=black noShade SIZE=1>\\n    </TD></TR></TBODY></TABLE><!-- End Calypso --><!-- Inserted by Calypso --><FONT \\ncolor=#000000 face=VERDANA,ARIAL,HELVETICA size=-2><BR></FONT></TD></TR></TABLE><!-- End Calypso --><FONT color=#ff0000 \\nface=\"Copperplate Gothic Bold\" size=5 PTSIZE=\"10\">\\n<CENTER>Save up to 70% on Life Insurance.</CENTER></FONT><FONT color=#ff0000 \\nface=\"Copperplate Gothic Bold\" size=5 PTSIZE=\"10\">\\n<CENTER>Why Spend More Than You Have To?\\n<CENTER><FONT color=#ff0000 face=\"Copperplate Gothic Bold\" size=5 PTSIZE=\"10\">\\n<CENTER>Life Quote Savings\\n<CENTER>\\n<P align=left></P>\\n<P align=left></P></FONT></U></I></B><BR></FONT></U></B></U></I>\\n<P></P>\\n<CENTER>\\n<TABLE border=0 borderColor=#111111 cellPadding=0 cellSpacing=0 width=650>\\n  <TBODY></TBODY></TABLE>\\n<TABLE border=0 borderColor=#111111 cellPadding=5 cellSpacing=0 width=650>\\n  <TBODY>\\n  <TR>\\n    <TD colSpan=2 width=\"35%\"><B><FONT face=Verdana size=4>Ensuring your \\n      family\\'s financial security is very important. Life Quote Savings makes \\n      buying life insurance simple and affordable. We Provide FREE Access to The \\n      Very Best Companies and The Lowest Rates.</FONT></B></TD></TR>\\n  <TR>\\n    <TD align=middle vAlign=top width=\"18%\">\\n      <TABLE borderColor=#111111 width=\"100%\">\\n        <TBODY>\\n        <TR>\\n          <TD style=\"PADDING-LEFT: 5px; PADDING-RIGHT: 5px\" width=\"100%\"><FONT \\n            face=Verdana size=4><B>Life Quote Savings</B> is FAST, EASY and \\n            SAVES you money! Let us help you get started with the best values in \\n            the country on new coverage. You can SAVE hundreds or even thousands \\n            of dollars by requesting a FREE quote from Lifequote Savings. Our \\n            service will take you less than 5 minutes to complete. Shop and \\n            compare. SAVE up to 70% on all types of Life insurance! \\n</FONT></TD></TR>\\n        <TR><BR><BR>\\n          <TD height=50 style=\"PADDING-LEFT: 5px; PADDING-RIGHT: 5px\" \\n          width=\"100%\">\\n            <P align=center><B><FONT face=Verdana size=5><A \\n            href=\"http://website.e365.cc/savequote/\">Click Here For Your \\n            Free Quote!</A></FONT></B></P></TD>\\n          <P><FONT face=Verdana size=4><STRONG>\\n          <CENTER>Protecting your family is the best investment you\\'ll ever \\n          make!<BR></B></TD></TR>\\n        <TR><BR><BR></STRONG></FONT></TD></TR></TD></TR>\\n        <TR></TR></TBODY></TABLE>\\n      <P align=left><FONT face=\"Arial, Helvetica, sans-serif\" size=2></FONT></P>\\n      <P></P>\\n      <CENTER><BR><BR><BR>\\n      <P></P>\\n      <P align=left><BR></B><BR><BR><BR><BR></P>\\n      <P align=center><BR></P>\\n      <P align=left><BR></B><BR><BR></FONT>If you are in receipt of this email \\n      in error and/or wish to be removed from our list, <A \\n      href=\"mailto:coins@btamail.net.cn\">PLEASE CLICK HERE</A> AND TYPE REMOVE. If you \\n      reside in any state which prohibits e-mail solicitations for insurance, \\n      please disregard this \\n      email.<BR></FONT><BR><BR><BR><BR><BR><BR><BR><BR><BR><BR><BR><BR><BR><BR><BR><BR></FONT></P></CENTER></CENTER></TR></TBODY></TABLE></CENTER></CENTER></CENTER></CENTER></CENTER></BODY></HTML>\\n\\n\\n\\n'"
      ]
     },
     "execution_count": 31,
     "metadata": {},
     "output_type": "execute_result"
    }
   ],
   "source": [
    "# only HTML body content\n",
    "spam_emails[0].get_content()"
   ]
  },
  {
   "cell_type": "code",
   "execution_count": 43,
   "metadata": {},
   "outputs": [
    {
     "data": {
      "text/plain": [
       "\"\\nSave up to 70% on Life Insurance.\\nWhy Spend More Than You Have To?\\nLife Quote Savings\\nEnsuring your \\n      family's financial security is very important. Life Quote Savings makes \\n      buying life insurance simple and affordable. We Provide FREE Access to The \\n      Very Best Companies and The Lowest Rates.\\nLife Quote Savings is FAST, EASY and \\n            SAVES you money! Let us help you get started with the best values in \\n            the country on new coverage. You can SAVE hundreds or even thousands \\n            of dollars by requesting a FREE quote from Lifequote Savings. Our \\n            service will take you less than 5 minutes to complete. Shop and \\n            compare. SAVE up to 70% on all types of Life insurance! \\nClick Here For Your \\n            Free Quote!\\nProtecting your family is the best investment you'll ever \\n          make!\\nIf you are in receipt of this email \\n      in error and/or wish to be removed from our list, PLEASE CLICK HERE AND TYPE REMOVE. If you \\n      reside in any state which prohibits e-mail solicitations for insurance, \\n      please disregard this \\n      email.\\n\""
      ]
     },
     "execution_count": 43,
     "metadata": {},
     "output_type": "execute_result"
    }
   ],
   "source": [
    "# Use BeautifulSoup to parse HTML\n",
    "soup = BeautifulSoup(spam_emails[0].get_content(), \"html.parser\")\n",
    "text = soup.get_text()\n",
    "text = re.sub('\\n+', '\\n', text)\n",
    "text"
   ]
  },
  {
   "cell_type": "code",
   "execution_count": null,
   "metadata": {},
   "outputs": [],
   "source": []
  }
 ],
 "metadata": {
  "kernelspec": {
   "display_name": "Python 3",
   "language": "python",
   "name": "python3"
  },
  "language_info": {
   "codemirror_mode": {
    "name": "ipython",
    "version": 3
   },
   "file_extension": ".py",
   "mimetype": "text/x-python",
   "name": "python",
   "nbconvert_exporter": "python",
   "pygments_lexer": "ipython3",
   "version": "3.10.6"
  },
  "orig_nbformat": 4
 },
 "nbformat": 4,
 "nbformat_minor": 2
}
